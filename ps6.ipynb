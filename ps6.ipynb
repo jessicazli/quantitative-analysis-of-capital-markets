{
 "cells": [
  {
   "cell_type": "code",
   "execution_count": 1,
   "metadata": {},
   "outputs": [],
   "source": [
    "import matplotlib.pyplot as plt\n",
    "import pandas as pd\n",
    "import numpy as np\n",
    "from datetime import datetime, timedelta\n",
    "import yfinance as yfin\n",
    "import math\n",
    "import matplotlib_inline.backend_inline \n",
    "import statsmodels.api as sm\n",
    "from pandas_datareader import data as pdr\n",
    "import plotly.graph_objects as go\n",
    "\n",
    "matplotlib_inline.backend_inline.set_matplotlib_formats('pdf', 'png')\n",
    "\n",
    "plt.rcParams['savefig.dpi'] = 75\n",
    "\n",
    "plt.rcParams['figure.autolayout'] = False\n",
    "plt.rcParams['figure.figsize'] = 10, 6\n",
    "plt.rcParams['axes.labelsize'] = 18\n",
    "plt.rcParams['axes.titlesize'] = 20\n",
    "plt.rcParams['font.size'] = 16\n",
    "plt.rcParams['lines.linewidth'] = 2.0\n",
    "plt.rcParams['lines.markersize'] = 8\n",
    "plt.rcParams['legend.fontsize'] = 14\n",
    "\n",
    "plt.rcParams['text.usetex'] = True\n",
    "plt.rcParams['font.family'] = \"serif\"\n",
    "plt.rcParams['font.serif'] = \"cm\""
   ]
  },
  {
   "cell_type": "code",
   "execution_count": null,
   "metadata": {},
   "outputs": [],
   "source": [
    "# Problem 3: Numerical Solution for t = 1\n",
    "\n",
    "def dpdt(p, K):\n",
    "    return p * (1 - p/K)\n",
    "\n",
    "def euler(p0, K, f, t_max, step_size):\n",
    "    t = [0]\n",
    "    p = [p0]\n",
    "    for i in range (int(t_max/step_size)):\n",
    "        t.append(t[i] + step_size)\n",
    "        p_new = p[i] + step_size * f(p[i], K)\n",
    "        p.append(p_new)\n",
    "    return t, p\n",
    "\n",
    "p0 = 5  \n",
    "K = 100  \n",
    "t_max = 10\n",
    "step_size = 0.01\n",
    "\n",
    "t, p = euler(p0, K, dpdt, t_max, step_size)\n",
    "t[100], p[100]"
   ]
  },
  {
   "cell_type": "code",
   "execution_count": null,
   "metadata": {},
   "outputs": [],
   "source": [
    "# Problem 3: Population Simulation\n",
    "\n",
    "plt.plot(t, p)\n",
    "plt.xlabel('Time')\n",
    "plt.ylabel('Population')\n",
    "plt.title('Population ODE Simulation wint Step Size ' + str(step_size))\n",
    "plt.show()"
   ]
  },
  {
   "cell_type": "code",
   "execution_count": null,
   "metadata": {},
   "outputs": [],
   "source": [
    "# Problem 3: Step Size on Quality of Approximate Solution\n",
    "step_size = 1\n",
    "t, p = euler(p0, K, dpdt, t_max, step_size)\n",
    "t[1], p[1]"
   ]
  },
  {
   "cell_type": "code",
   "execution_count": null,
   "metadata": {},
   "outputs": [],
   "source": [
    "# Problem 8: SDE Numerical Simulation\n",
    "\n",
    "def SDE_simulation (mu, sigma):\n",
    "    T = 100\n",
    "    N = 1000\n",
    "    dt = T/N\n",
    "    X0 = 1\n",
    "\n",
    "    X = np.zeros(N+1)\n",
    "    X[0] = X0\n",
    "\n",
    "    for i in range(N):\n",
    "        dX = mu*X[i]*dt + sigma*X[i]*np.sqrt(dt)*np.random.normal()\n",
    "        X[i+1] = X[i] + dX\n",
    "\n",
    "    t = np.linspace(0, T, N+1)\n",
    "    plt.plot(t, X)\n",
    "    plt.xlabel('t')\n",
    "    plt.ylabel('X(t)')\n",
    "    plt.title('Simulation of dX_t = mu*X_t dt + sigma*X_t dB_t')\n",
    "    plt.show()\n",
    "\n",
    "mu = 1\n",
    "sigma = 1\n",
    "SDE_simulation(mu, sigma)"
   ]
  },
  {
   "cell_type": "code",
   "execution_count": null,
   "metadata": {},
   "outputs": [],
   "source": [
    "mu = 0.5\n",
    "SDE_simulation(mu, sigma)"
   ]
  },
  {
   "cell_type": "code",
   "execution_count": null,
   "metadata": {},
   "outputs": [],
   "source": [
    "# Problem 8: OU Simulation\n",
    "\n",
    "def OU_simulation(alpha, sigma, X0):\n",
    "    T = 100\n",
    "    N = 1000\n",
    "    dt = T/N\n",
    "\n",
    "    X = np.zeros(N+1)\n",
    "    X[0] = X0\n",
    "\n",
    "    for i in range(N):\n",
    "        dX = -alpha*X[i]*dt + sigma*np.sqrt(dt)*np.random.normal()\n",
    "        X[i+1] = X[i] + dX\n",
    "\n",
    "    t = np.linspace(0, T, N+1)\n",
    "    plt.plot(t, X)\n",
    "    plt.xlabel('t')\n",
    "    plt.ylabel('X(t)')\n",
    "    plt.title('Simulation of dX_t = -alpha*X_t dt + sigma*dB_t')\n",
    "    plt.show()\n",
    "\n",
    "alpha = 1\n",
    "sigma = math.sqrt(2)\n",
    "X0 = 1000000\n",
    "\n",
    "OU_simulation(alpha, sigma, X0)"
   ]
  },
  {
   "cell_type": "code",
   "execution_count": null,
   "metadata": {},
   "outputs": [],
   "source": [
    "X0 = -1000000\n",
    "\n",
    "OU_simulation(alpha, sigma, X0)"
   ]
  },
  {
   "cell_type": "code",
   "execution_count": null,
   "metadata": {},
   "outputs": [],
   "source": [
    "X0 = 1\n",
    "\n",
    "OU_simulation(alpha, sigma, X0)"
   ]
  },
  {
   "cell_type": "code",
   "execution_count": null,
   "metadata": {},
   "outputs": [],
   "source": [
    "# Problem 8: X_t Distribution\n",
    "\n",
    "mu = 0.5\n",
    "sigma = 1\n",
    "X0 = 1\n",
    "n = 10000\n",
    "\n",
    "large_values = [np.random.randint(10^3, 10^4) for i in range(100)]\n",
    "dt = [large_values[i]/n for i in range(100)]\n",
    "\n",
    "def euler(x):\n",
    "    X = np.zeros(n + 1)\n",
    "    X[0] = X0\n",
    "    dW = np.sqrt(x) * np.random.randn(n)\n",
    "    for i in range(n):\n",
    "        X[i + 1] = X[i] + mu * X[i] * x + sigma * X[i] * dW[i]\n",
    "    return X\n",
    "\n",
    "X_t = []\n",
    "for i in range(100):\n",
    "    y = euler(dt[i])\n",
    "    X_t.append(y[n])\n",
    "\n",
    "plt.hist(X_t, bins=20)\n",
    "plt.xlabel('t')\n",
    "plt.ylabel('X_t')\n",
    "plt.title('X_t Histogram')\n",
    "plt.show()\n"
   ]
  },
  {
   "cell_type": "code",
   "execution_count": null,
   "metadata": {},
   "outputs": [],
   "source": [
    "# Problem 9.2: Langevin Diffusion \n",
    "\n",
    "t_vals = np.array([1000]*200)\n",
    "x0 = 1\n",
    "sigma = np.sqrt(2)\n",
    "\n",
    "x_t = []\n",
    "for t in t_vals: \n",
    "    step_size = 0.01\n",
    "    n = int(t/step_size)\n",
    "    x = x0\n",
    "    for i in range(n): \n",
    "        x += ((-x + 3) * step_size + sigma * np.random.normal() * np.sqrt(step_size))\n",
    "    x_t.append(x)\n",
    "\n",
    "np.mean(x_t)"
   ]
  },
  {
   "cell_type": "code",
   "execution_count": null,
   "metadata": {},
   "outputs": [],
   "source": [
    "np.var(x_t)"
   ]
  },
  {
   "cell_type": "code",
   "execution_count": null,
   "metadata": {},
   "outputs": [],
   "source": [
    "plt.hist(x_t, bins=20)\n",
    "plt.xlabel('x')\n",
    "plt.ylabel('Frequency')\n",
    "plt.title('X_t Histogram')\n",
    "plt.show()"
   ]
  },
  {
   "cell_type": "code",
   "execution_count": null,
   "metadata": {},
   "outputs": [],
   "source": [
    "# Problem 9.3: Bimodal Distribution\n",
    "\n",
    "def bimodal(steps, dt, dV):\n",
    "    n = 1\n",
    "    X = np.zeros((n, steps + 1))\n",
    "    X[:, 0] = 1\n",
    "    for i in range(n):\n",
    "        for j in range(steps):\n",
    "            dW = np.random.normal(0, np.sqrt(dt))\n",
    "            X[i, j + 1] = X[i, j] + dV(X[i, j]) * dt + np.sqrt(2) * dW\n",
    "    return X[0]\n",
    "\n",
    "def dV(x):\n",
    "    return -((x - 3) * np.exp(-0.5 * (x - 3)**2) + (x + 3) * np.exp(-0.5 * (x + 3)**2)) / (np.exp(-0.5 * (x - 3)**2) + np.exp(-0.5 * (x + 3)**2))\n",
    "\n",
    "samples = 10000\n",
    "samples2 = int(samples/2)\n",
    "dt = 0.01\n",
    "\n",
    "X_t = bimodal(samples, dt, dV)\n",
    "filtered = X_t[-samples2:]\n",
    "\n",
    "plt.hist(X_t, bins=50)\n",
    "plt.xlabel('X_t')\n",
    "plt.ylabel('Frequency')\n",
    "plt.title('X_t Histogram')\n",
    "plt.show()"
   ]
  }
 ],
 "metadata": {
  "kernelspec": {
   "display_name": "Python 3",
   "language": "python",
   "name": "python3"
  },
  "language_info": {
   "codemirror_mode": {
    "name": "ipython",
    "version": 3
   },
   "file_extension": ".py",
   "mimetype": "text/x-python",
   "name": "python",
   "nbconvert_exporter": "python",
   "pygments_lexer": "ipython3",
   "version": "3.11.0"
  },
  "orig_nbformat": 4
 },
 "nbformat": 4,
 "nbformat_minor": 2
}
