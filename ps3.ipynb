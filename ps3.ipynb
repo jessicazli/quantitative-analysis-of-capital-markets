{
 "cells": [
  {
   "cell_type": "code",
   "execution_count": 2,
   "metadata": {},
   "outputs": [],
   "source": [
    "import matplotlib.pyplot as plt\n",
    "import pandas as pd\n",
    "import numpy as np\n",
    "from datetime import datetime, timedelta\n",
    "import yfinance as yfin\n",
    "import math\n",
    "import matplotlib_inline.backend_inline \n",
    "import statsmodels.api as sm\n",
    "from patsy import dmatrices\n",
    "import random\n",
    "\n",
    "matplotlib_inline.backend_inline.set_matplotlib_formats('pdf', 'png')\n",
    "\n",
    "plt.rcParams['savefig.dpi'] = 75\n",
    "\n",
    "plt.rcParams['figure.autolayout'] = False\n",
    "plt.rcParams['figure.figsize'] = 10, 6\n",
    "plt.rcParams['axes.labelsize'] = 18\n",
    "plt.rcParams['axes.titlesize'] = 20\n",
    "plt.rcParams['font.size'] = 16\n",
    "plt.rcParams['lines.linewidth'] = 2.0\n",
    "plt.rcParams['lines.markersize'] = 8\n",
    "plt.rcParams['legend.fontsize'] = 14\n",
    "\n",
    "plt.rcParams['text.usetex'] = True\n",
    "plt.rcParams['font.family'] = \"serif\"\n",
    "plt.rcParams['font.serif'] = \"cm\""
   ]
  },
  {
   "cell_type": "code",
   "execution_count": null,
   "metadata": {},
   "outputs": [],
   "source": [
    "# 1.1 SPY vs AAPL CAPM Model \n",
    "\n",
    "data = yfin.download(tickers=['SPY', 'AAPL'], start='2010-01-01', end='2022-01-01', interval='1d')\n",
    "data = data['Adj Close'].pct_change().fillna(method='bfill')\n",
    "\n",
    "y, X = dmatrices(f\"AAPL ~ SPY\", data=data, return_type=\"dataframe\")\n",
    "\n",
    "model = sm.OLS(y, X) \n",
    "results = model.fit()\n",
    "\n",
    "results.params"
   ]
  },
  {
   "cell_type": "code",
   "execution_count": null,
   "metadata": {},
   "outputs": [],
   "source": [
    "# 1.2 Residuals vs. Fitted\n",
    "\n",
    "fittedValues = results.fittedvalues\n",
    "residuals = y['AAPL'] - fittedValues\n",
    "\n",
    "plt.scatter(fittedValues, residuals)\n",
    "plt.title('Residuals vs Fitted')\n",
    "plt.xlabel('Fitted')\n",
    "plt.ylabel('Residuals')\n",
    "plt.show"
   ]
  },
  {
   "cell_type": "code",
   "execution_count": null,
   "metadata": {},
   "outputs": [],
   "source": [
    "# 1.2 Residual Sum of Squares RSS\n",
    "\n",
    "RSS = sum(np.square(residuals))\n",
    "\n",
    "RSS"
   ]
  },
  {
   "cell_type": "code",
   "execution_count": null,
   "metadata": {},
   "outputs": [],
   "source": [
    "# 1.3 Null Regression Model\n",
    "\n",
    "X = np.ones(len(y), dtype = int)\n",
    "\n",
    "null_model = sm.OLS(y, X) \n",
    "null_results = null_model.fit()\n",
    "\n",
    "null_results.params"
   ]
  },
  {
   "cell_type": "code",
   "execution_count": null,
   "metadata": {},
   "outputs": [],
   "source": [
    "# 1.3 Alpha in Null Regression Model\n",
    "\n",
    "np.mean(y)"
   ]
  },
  {
   "cell_type": "code",
   "execution_count": null,
   "metadata": {},
   "outputs": [],
   "source": [
    "# 1.4 R Squared Using Formula\n",
    "\n",
    "null_fittedValues = null_results.fittedvalues\n",
    "\n",
    "null_residuals = y['AAPL'] - null_fittedValues\n",
    "\n",
    "null_RSS = sum(np.square(null_residuals))\n",
    "\n",
    "r_squared = 1 - (RSS/null_RSS)\n",
    "\n",
    "r_squared\n"
   ]
  },
  {
   "cell_type": "code",
   "execution_count": null,
   "metadata": {},
   "outputs": [],
   "source": [
    "# 1.4 R Squared \n",
    "\n",
    "results.rsquared"
   ]
  },
  {
   "cell_type": "code",
   "execution_count": null,
   "metadata": {},
   "outputs": [],
   "source": [
    "# 2.3 Simulate Distribution of f_n\n",
    "\n",
    "def frac_of_red(n):\n",
    "    red = 1\n",
    "    green = 1\n",
    "    for trial in range(n):\n",
    "        pick = np.random.choice(['red', 'green'], p = [red/(red + green), green/(red + green)])\n",
    "        if pick == 'red':\n",
    "            red += 1\n",
    "        else: \n",
    "            green += 1\n",
    "    return (red/(red + green))\n",
    "\n",
    "proportion_red = [frac_of_red(10000) for trial in range(1000)]\n",
    "\n",
    "plt.hist(proportion_red, bins=25)\n",
    "plt.title('Simulation of f_n')\n",
    "plt.xlabel('Proportion of Red Balls')\n",
    "plt.ylabel('Frequency')\n",
    "plt.show()"
   ]
  },
  {
   "cell_type": "code",
   "execution_count": null,
   "metadata": {},
   "outputs": [],
   "source": [
    "# 2.4 (d) Simulate Z_n\n",
    "\n",
    "def simulations():\n",
    "    z_previous = 1\n",
    "    for i in range(10000):\n",
    "        z = 0\n",
    "        for j in range(z_previous):\n",
    "            epsilon = np.random.poisson(1)\n",
    "            z += epsilon\n",
    "        z_previous = z\n",
    "    return z_previous\n",
    "\n",
    "Z = [simulations() for trial in range(1000)]\n",
    "\n",
    "plt.hist(Z, bins=30)\n",
    "plt.title('Simulation of Z_n')\n",
    "plt.xlabel('Z_n')\n",
    "plt.ylabel('Frequency')\n",
    "plt.show()"
   ]
  },
  {
   "cell_type": "code",
   "execution_count": null,
   "metadata": {},
   "outputs": [],
   "source": [
    "# 3.3 Game Simulation\n",
    "probabilities = [0.5, 0.495, 0.490, 0.480, 0.470]\n",
    "\n",
    "def random_walk(p):\n",
    "    prob = [p, 1 - p] \n",
    "    money = 0\n",
    "    duration = 0\n",
    "    while money > -100 and money < 100:\n",
    "        x = np.random.random(1)\n",
    "        if x < prob[0]:\n",
    "            money += 1\n",
    "        else:\n",
    "            money -= 1\n",
    "        duration += 1\n",
    "    return money, duration\n",
    "\n",
    "def simulation(p, trials):\n",
    "    num_wins = 0\n",
    "    sum_duration = 0\n",
    "    for trial in range(trials):\n",
    "        if random_walk(p)[0] == 100:\n",
    "            num_wins += 1\n",
    "        sum_duration += random_walk(p)[1]\n",
    "    prob_win = num_wins/trials\n",
    "    ave_duration = sum_duration/trials\n",
    "    return (prob_win, ave_duration) \n",
    "\n",
    "stats = [simulation(p, 10000) for p in probabilities]\n",
    "\n",
    "stats"
   ]
  },
  {
   "cell_type": "code",
   "execution_count": null,
   "metadata": {},
   "outputs": [],
   "source": [
    "# 3.5 Stopping Time Simulation\n",
    "\n",
    "def stopping_time(p):\n",
    "    prob = [p, 1 - p] \n",
    "\n",
    "    money_won = 0\n",
    "    duration = 0\n",
    "\n",
    "    while money_won < 1:\n",
    "        x = np.random.random(1)\n",
    "        if x < prob[0]:\n",
    "            money_won += 1\n",
    "        duration += 1\n",
    "\n",
    "    return duration\n",
    "\n",
    "durations = [stopping_time(0.5) for trial in range(1000)]\n",
    "\n",
    "np.mean(durations)\n",
    "\n"
   ]
  }
 ],
 "metadata": {
  "kernelspec": {
   "display_name": "Python 3",
   "language": "python",
   "name": "python3"
  },
  "language_info": {
   "codemirror_mode": {
    "name": "ipython",
    "version": 3
   },
   "file_extension": ".py",
   "mimetype": "text/x-python",
   "name": "python",
   "nbconvert_exporter": "python",
   "pygments_lexer": "ipython3",
   "version": "3.11.0"
  },
  "orig_nbformat": 4
 },
 "nbformat": 4,
 "nbformat_minor": 2
}
